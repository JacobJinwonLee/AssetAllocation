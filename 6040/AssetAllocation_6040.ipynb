{
 "cells": [
  {
   "cell_type": "markdown",
   "metadata": {},
   "source": [
    "자산배분은 상관관계가 낮거나 음수인 우상향하는 자산들에 분산 투자하는 것입니다. 가장 기본적이고, 잘 알려진 방식은 주식 60 : 채권 40 방식입니다."
   ]
  },
  {
   "cell_type": "code",
   "execution_count": 1,
   "metadata": {},
   "outputs": [
    {
     "name": "stderr",
     "output_type": "stream",
     "text": [
      "C:\\ProgramData\\Anaconda3\\lib\\site-packages\\pyfolio\\pos.py:27: UserWarning: Module \"zipline.assets\" not found; mutltipliers will not be applied to position notionals.\n",
      "  'Module \"zipline.assets\" not found; mutltipliers will not be applied' +\n"
     ]
    }
   ],
   "source": [
    "import pandas as pd\n",
    "import pandas_datareader.data as web\n",
    "import datetime\n",
    "import backtrader as bt\n",
    "import numpy as np\n",
    "%matplotlib inline\n",
    "import matplotlib.pyplot as plt\n",
    "import pyfolio as pf\n",
    "import quantstats\n",
    "plt.rcParams[\"figure.figsize\"] = (10, 6) # (w, h)"
   ]
  },
  {
   "cell_type": "markdown",
   "metadata": {},
   "source": [
    "ETF로 매수하는 것이 간편한데, 테스트 기간을 더 늘리기 위해서 상관관계 체크 후 펀드 데이터로 적용합니다."
   ]
  },
  {
   "cell_type": "code",
   "execution_count": 2,
   "metadata": {},
   "outputs": [],
   "source": [
    "# S&P 500 (VFINX), US Long Term Treasury (VUSTX)\n",
    "# VFINX start: 1976-08-31, VUSTX start: 1986-05-19\n",
    "start = '1986-05-19'\n",
    "end = '2021-02-12'\n",
    "vfinx = web.DataReader(\"VFINX\", 'yahoo', start, end)['Adj Close'].to_frame(\"Close\")\n",
    "vustx = web.DataReader(\"VUSTX\", 'yahoo', start, end)['Adj Close'].to_frame(\"Close\")\n",
    "\n",
    "spy = web.DataReader(\"SPY\", 'yahoo', start, end)['Adj Close'].to_frame(\"SPY\")\n",
    "tlt = web.DataReader(\"TLT\", 'yahoo', start, end)['Adj Close'].to_frame(\"TLT\")"
   ]
  },
  {
   "cell_type": "markdown",
   "metadata": {},
   "source": [
    "상관관계를 체크합니다. vfinx와 spy, vustx와 tlt를 체크하기 위해서 join 합니다."
   ]
  },
  {
   "cell_type": "code",
   "execution_count": 3,
   "metadata": {},
   "outputs": [],
   "source": [
    "vfinx_cor = vfinx.join(spy).dropna(axis=0)\n",
    "vustx_cor = vustx.join(tlt).dropna(axis=0)"
   ]
  },
  {
   "cell_type": "code",
   "execution_count": 4,
   "metadata": {},
   "outputs": [
    {
     "data": {
      "text/html": [
       "<div>\n",
       "<style scoped>\n",
       "    .dataframe tbody tr th:only-of-type {\n",
       "        vertical-align: middle;\n",
       "    }\n",
       "\n",
       "    .dataframe tbody tr th {\n",
       "        vertical-align: top;\n",
       "    }\n",
       "\n",
       "    .dataframe thead th {\n",
       "        text-align: right;\n",
       "    }\n",
       "</style>\n",
       "<table border=\"1\" class=\"dataframe\">\n",
       "  <thead>\n",
       "    <tr style=\"text-align: right;\">\n",
       "      <th></th>\n",
       "      <th>Close</th>\n",
       "      <th>SPY</th>\n",
       "    </tr>\n",
       "  </thead>\n",
       "  <tbody>\n",
       "    <tr>\n",
       "      <th>Close</th>\n",
       "      <td>1.000000</td>\n",
       "      <td>0.999995</td>\n",
       "    </tr>\n",
       "    <tr>\n",
       "      <th>SPY</th>\n",
       "      <td>0.999995</td>\n",
       "      <td>1.000000</td>\n",
       "    </tr>\n",
       "  </tbody>\n",
       "</table>\n",
       "</div>"
      ],
      "text/plain": [
       "          Close       SPY\n",
       "Close  1.000000  0.999995\n",
       "SPY    0.999995  1.000000"
      ]
     },
     "execution_count": 4,
     "metadata": {},
     "output_type": "execute_result"
    }
   ],
   "source": [
    "vfinx_cor.corr(method = 'pearson')"
   ]
  },
  {
   "cell_type": "code",
   "execution_count": 5,
   "metadata": {},
   "outputs": [
    {
     "data": {
      "text/html": [
       "<div>\n",
       "<style scoped>\n",
       "    .dataframe tbody tr th:only-of-type {\n",
       "        vertical-align: middle;\n",
       "    }\n",
       "\n",
       "    .dataframe tbody tr th {\n",
       "        vertical-align: top;\n",
       "    }\n",
       "\n",
       "    .dataframe thead th {\n",
       "        text-align: right;\n",
       "    }\n",
       "</style>\n",
       "<table border=\"1\" class=\"dataframe\">\n",
       "  <thead>\n",
       "    <tr style=\"text-align: right;\">\n",
       "      <th></th>\n",
       "      <th>Close</th>\n",
       "      <th>TLT</th>\n",
       "    </tr>\n",
       "  </thead>\n",
       "  <tbody>\n",
       "    <tr>\n",
       "      <th>Close</th>\n",
       "      <td>1.000000</td>\n",
       "      <td>0.994689</td>\n",
       "    </tr>\n",
       "    <tr>\n",
       "      <th>TLT</th>\n",
       "      <td>0.994689</td>\n",
       "      <td>1.000000</td>\n",
       "    </tr>\n",
       "  </tbody>\n",
       "</table>\n",
       "</div>"
      ],
      "text/plain": [
       "          Close       TLT\n",
       "Close  1.000000  0.994689\n",
       "TLT    0.994689  1.000000"
      ]
     },
     "execution_count": 5,
     "metadata": {},
     "output_type": "execute_result"
    }
   ],
   "source": [
    "vustx_cor.corr(method = 'pearson')"
   ]
  },
  {
   "cell_type": "markdown",
   "metadata": {},
   "source": [
    "VFINX와 SPY의 상관계수는 1993년 1월 29일부터 2021년 2월 9일까지 0.999995, VUSTX와 TLT의 상관계수는 2002년 7월 30일부터 2021년 2월 9일까지 0.99472입니다. 이 정도면 ETF인 SPY와 TLT 대신 VFINX와 VUSTX를 사용해도 무방할 것입니다."
   ]
  },
  {
   "cell_type": "markdown",
   "metadata": {},
   "source": [
    "Backtrader 패키지를 사용하는데, input 형식을 맞추어야 합니다."
   ]
  },
  {
   "cell_type": "code",
   "execution_count": 6,
   "metadata": {},
   "outputs": [],
   "source": [
    "for column in ['Open', 'High', \"Low\"]:\n",
    "    vfinx[column] = vfinx[\"Close\"]\n",
    "    vustx[column] = vustx[\"Close\"]"
   ]
  },
  {
   "cell_type": "markdown",
   "metadata": {},
   "source": [
    "60 : 40 비율로 매수하고 20 거래일마다 리밸런싱하는 전략입니다. "
   ]
  },
  {
   "cell_type": "code",
   "execution_count": 7,
   "metadata": {},
   "outputs": [],
   "source": [
    "class AssetAllocation_6040(bt.Strategy):\n",
    "    params = (\n",
    "        ('equity',0.6),\n",
    "    )\n",
    "    def __init__(self):\n",
    "        self.VFINX = self.datas[0]\n",
    "        self.VUSTX = self.datas[1]\n",
    "        self.counter = 0\n",
    "        \n",
    "    def next(self):\n",
    "        if  self.counter % 20 == 0:\n",
    "            self.order_target_percent(self.VFINX, target=self.params.equity)\n",
    "            self.order_target_percent(self.VUSTX, target=(1 - self.params.equity))\n",
    "        self.counter += 1"
   ]
  },
  {
   "cell_type": "code",
   "execution_count": 8,
   "metadata": {},
   "outputs": [],
   "source": [
    "cerebro = bt.Cerebro()\n",
    "\n",
    "cerebro.broker.setcash(1000000)\n",
    "\n",
    "VFINX = bt.feeds.PandasData(dataname = vfinx)\n",
    "VUSTX = bt.feeds.PandasData(dataname = vustx)\n",
    "\n",
    "cerebro.adddata(VFINX)\n",
    "cerebro.adddata(VUSTX)\n",
    "\n",
    "cerebro.addstrategy(AssetAllocation_6040)\n",
    "\n",
    "cerebro.addanalyzer(bt.analyzers.PyFolio, _name = 'PyFolio')\n",
    "\n",
    "results = cerebro.run()\n",
    "strat = results[0]\n",
    "\n",
    "portfolio_stats = strat.analyzers.getbyname('PyFolio')\n",
    "returns, positions, transactions, gross_lev = portfolio_stats.get_pf_items()\n",
    "returns.index = returns.index.tz_convert(None)\n",
    "\n",
    "quantstats.reports.html(returns, output = 'Report_AssetAllocation_6040.html', title='AssetAllocation_6040')"
   ]
  }
 ],
 "metadata": {
  "kernelspec": {
   "display_name": "Python 3",
   "language": "python",
   "name": "python3"
  },
  "language_info": {
   "codemirror_mode": {
    "name": "ipython",
    "version": 3
   },
   "file_extension": ".py",
   "mimetype": "text/x-python",
   "name": "python",
   "nbconvert_exporter": "python",
   "pygments_lexer": "ipython3",
   "version": "3.7.6"
  }
 },
 "nbformat": 4,
 "nbformat_minor": 4
}
