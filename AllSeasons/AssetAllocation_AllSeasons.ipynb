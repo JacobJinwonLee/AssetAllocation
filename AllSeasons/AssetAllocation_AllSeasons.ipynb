{
 "cells": [
  {
   "cell_type": "markdown",
   "metadata": {},
   "source": [
    "전세계 최대 헤지펀드인 Bridgewater Associates의 창업자 Ray Dalio가 만든 전략이 있습니다. 주식 30%, 중기 국채 15%, 장기 국채 40%, 금 7.5%, 원자재 7.5% 비율로 가져갑니다. 주식/국채/금/현금으로 만든 영구 포트폴리오나 Goldenbutterfly(황금나비) 전략과 비슷하지만, 현금을 가져가지 않는 대신 원자재를 가져가 기대 이상의 인플레이션 대응에 더 큰 비중을 두었습니다."
   ]
  },
  {
   "cell_type": "code",
   "execution_count": 1,
   "metadata": {},
   "outputs": [
    {
     "name": "stderr",
     "output_type": "stream",
     "text": [
      "C:\\ProgramData\\Anaconda3\\lib\\site-packages\\pyfolio\\pos.py:27: UserWarning: Module \"zipline.assets\" not found; mutltipliers will not be applied to position notionals.\n",
      "  'Module \"zipline.assets\" not found; mutltipliers will not be applied' +\n"
     ]
    }
   ],
   "source": [
    "import pandas as pd\n",
    "import pandas_datareader.data as web\n",
    "import datetime\n",
    "import backtrader as bt\n",
    "import numpy as np\n",
    "%matplotlib inline\n",
    "import matplotlib.pyplot as plt\n",
    "import pyfolio as pf\n",
    "import quantstats\n",
    "plt.rcParams[\"figure.figsize\"] = (10, 6) # (w, h)"
   ]
  },
  {
   "cell_type": "markdown",
   "metadata": {},
   "source": [
    "원자재 ETF인 GSG 데이터가 2006-07-21부터 구해지므로 그때부터 시작합니다."
   ]
  },
  {
   "cell_type": "code",
   "execution_count": 2,
   "metadata": {},
   "outputs": [],
   "source": [
    "start = '2006-07-21'\n",
    "end = '2021-02-12'\n",
    "\n",
    "vtsmx = web.DataReader('VTSMX', 'yahoo', start, end)['Adj Close'].to_frame(\"Close\")\n",
    "vfitx = web.DataReader('VFITX', 'yahoo', start, end)['Adj Close'].to_frame(\"Close\")\n",
    "vustx = web.DataReader('VUSTX', 'yahoo', start, end)['Adj Close'].to_frame(\"Close\")\n",
    "gld = web.DataReader('GLD', 'yahoo', start, end)['Adj Close'].to_frame(\"Close\")\n",
    "gsg = web.DataReader('GSG', 'yahoo', start, end)['Adj Close'].to_frame(\"Close\")"
   ]
  },
  {
   "cell_type": "markdown",
   "metadata": {},
   "source": [
    "Backtrader 패키지의 input 형태를 맞춥니다."
   ]
  },
  {
   "cell_type": "code",
   "execution_count": 3,
   "metadata": {},
   "outputs": [],
   "source": [
    "for column in ['Open', 'High', \"Low\"]:\n",
    "    vtsmx[column] = vtsmx[\"Close\"]\n",
    "    vfitx[column] = vfitx['Close']\n",
    "    vustx[column] = vustx[\"Close\"]\n",
    "    gld[column] = gld[\"Close\"]\n",
    "    gsg[column] = gsg[\"Close\"]"
   ]
  },
  {
   "cell_type": "markdown",
   "metadata": {},
   "source": [
    "주식 30%, 중기 국채 15%, 장기 국채 40%, 금 7.5%, 원자재 7.5%를 보유하면서 20 거래일마다 리밸런싱합니다."
   ]
  },
  {
   "cell_type": "code",
   "execution_count": 4,
   "metadata": {},
   "outputs": [],
   "source": [
    "class AssetAllocation_AllSeasons(bt.Strategy):\n",
    "    params = (\n",
    "        ('Equity',0.3),\n",
    "        ('InterTreasury', 0.15),\n",
    "        ('LongTreasury', 0.4),\n",
    "        ('Gold', 0.075),\n",
    "        ('Commodities', 0.075)\n",
    "    )\n",
    "    def __init__(self):\n",
    "        self.VTSMX = self.datas[0]\n",
    "        self.VFITX = self.datas[1]\n",
    "        self.VUSTX = self.datas[2]\n",
    "        self.GLD = self.datas[3]\n",
    "        self.GSG = self.datas[4]\n",
    "        self.counter = 0\n",
    "        \n",
    "    def next(self):\n",
    "        if  self.counter % 20 == 0:\n",
    "            self.order_target_percent(self.VTSMX, target=self.params.Equity)\n",
    "            self.order_target_percent(self.VFITX, target=self.params.InterTreasury)\n",
    "            self.order_target_percent(self.VUSTX, target=self.params.LongTreasury)\n",
    "            self.order_target_percent(self.GLD, target=self.params.Gold)\n",
    "            self.order_target_percent(self.GSG, target=self.params.Commodities)\n",
    "        self.counter += 1"
   ]
  },
  {
   "cell_type": "code",
   "execution_count": 5,
   "metadata": {},
   "outputs": [],
   "source": [
    "cerebro = bt.Cerebro()\n",
    "\n",
    "cerebro.broker.setcash(1000000)\n",
    "\n",
    "VTSMX = bt.feeds.PandasData(dataname = vtsmx)\n",
    "VFITX = bt.feeds.PandasData(dataname = vfitx)\n",
    "VUSTX = bt.feeds.PandasData(dataname = vustx)\n",
    "GLD = bt.feeds.PandasData(dataname = gld)\n",
    "GSG = bt.feeds.PandasData(dataname = gsg)\n",
    "\n",
    "cerebro.adddata(VTSMX)\n",
    "cerebro.adddata(VFITX)\n",
    "cerebro.adddata(VUSTX)\n",
    "cerebro.adddata(GLD)\n",
    "cerebro.adddata(GSG)\n",
    "\n",
    "cerebro.addstrategy(AssetAllocation_AllSeasons)\n",
    "\n",
    "cerebro.addanalyzer(bt.analyzers.PyFolio, _name = 'PyFolio')\n",
    "\n",
    "results = cerebro.run()\n",
    "strat = results[0]\n",
    "\n",
    "portfolio_stats = strat.analyzers.getbyname('PyFolio')\n",
    "returns, positions, transactions, gross_lev = portfolio_stats.get_pf_items()\n",
    "returns.index = returns.index.tz_convert(None)\n",
    "\n",
    "quantstats.reports.html(returns, output = 'Report_AssetAllocation_AllSeasons.html', title='AssetAllocation_AllSeasons')"
   ]
  }
 ],
 "metadata": {
  "kernelspec": {
   "display_name": "Python 3",
   "language": "python",
   "name": "python3"
  },
  "language_info": {
   "codemirror_mode": {
    "name": "ipython",
    "version": 3
   },
   "file_extension": ".py",
   "mimetype": "text/x-python",
   "name": "python",
   "nbconvert_exporter": "python",
   "pygments_lexer": "ipython3",
   "version": "3.7.6"
  }
 },
 "nbformat": 4,
 "nbformat_minor": 4
}
