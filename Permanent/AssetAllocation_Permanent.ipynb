{
 "cells": [
  {
   "cell_type": "markdown",
   "metadata": {},
   "source": [
    "주식과 국채를 60:40 비중으로 투자하는 전통적인 전략보다 한 단계 나아가 금을 추가하는 전략입니다. 금은 주식과 국채 모두와 상관관계가 작아 둘이 동반 하락하는 시기를 방어하고, 인플레이션에 강한 특징을 가집니다. 주식, 국채, 금, 현금을 각각 25%씩 보유하는 전략으로 영구 포트폴리오라는 이름을 가집니다."
   ]
  },
  {
   "cell_type": "code",
   "execution_count": 1,
   "metadata": {},
   "outputs": [
    {
     "name": "stderr",
     "output_type": "stream",
     "text": [
      "C:\\ProgramData\\Anaconda3\\lib\\site-packages\\pyfolio\\pos.py:27: UserWarning: Module \"zipline.assets\" not found; mutltipliers will not be applied to position notionals.\n",
      "  'Module \"zipline.assets\" not found; mutltipliers will not be applied' +\n"
     ]
    }
   ],
   "source": [
    "import pandas as pd\n",
    "import pandas_datareader.data as web\n",
    "import datetime\n",
    "import backtrader as bt\n",
    "import numpy as np\n",
    "%matplotlib inline\n",
    "import matplotlib.pyplot as plt\n",
    "import pyfolio as pf\n",
    "import quantstats\n",
    "plt.rcParams[\"figure.figsize\"] = (10, 6) # (w, h)"
   ]
  },
  {
   "cell_type": "markdown",
   "metadata": {},
   "source": [
    "금 ETF인 GLD가 2004-11-18 데이터부터 있으므로, 그 시점부터 시작합니다."
   ]
  },
  {
   "cell_type": "code",
   "execution_count": 2,
   "metadata": {},
   "outputs": [],
   "source": [
    "# VTSMX (미국 주식), VUSTX (미국 국채), GLD (금), SHY (단기 국채)\n",
    "\n",
    "start = '2004-11-18'\n",
    "end = '2021-02-12'\n",
    "\n",
    "vtsmx = web.DataReader('VTSMX', 'yahoo', start, end)['Adj Close'].to_frame(\"Close\")\n",
    "vustx = web.DataReader('VUSTX', 'yahoo', start, end)['Adj Close'].to_frame(\"Close\")\n",
    "gld = web.DataReader('GLD', 'yahoo', start, end)['Adj Close'].to_frame(\"Close\")\n",
    "shy = web.DataReader('SHY', 'yahoo', start, end)['Adj Close'].to_frame(\"Close\")"
   ]
  },
  {
   "cell_type": "markdown",
   "metadata": {},
   "source": [
    "Backtrader 패키지의 input 형태를 맞춥니다."
   ]
  },
  {
   "cell_type": "code",
   "execution_count": 3,
   "metadata": {},
   "outputs": [],
   "source": [
    "for column in ['Open', 'High', \"Low\"]:\n",
    "    vtsmx[column] = vtsmx[\"Close\"]\n",
    "    vustx[column] = vustx[\"Close\"]\n",
    "    gld[column] = gld[\"Close\"]\n",
    "    shy[column] = shy[\"Close\"]"
   ]
  },
  {
   "cell_type": "markdown",
   "metadata": {},
   "source": [
    "주식, 국채, 금, 현금(단기국채) 각각을 25%씩 매수 후 20 거래일마다 리밸런싱하는 것으로 가정합니다."
   ]
  },
  {
   "cell_type": "code",
   "execution_count": 4,
   "metadata": {},
   "outputs": [],
   "source": [
    "class AssetAllocation_Permanent(bt.Strategy):\n",
    "    params = (\n",
    "        ('equity',0.25),\n",
    "        ('treasury', 0.25),\n",
    "        ('gold', 0.25),\n",
    "        ('cash', 0.25)\n",
    "    )\n",
    "    def __init__(self):\n",
    "        self.VTSMX = self.datas[0]\n",
    "        self.VUSTX = self.datas[1]\n",
    "        self.GLD = self.datas[2]\n",
    "        self.SHY = self.datas[3]\n",
    "        self.counter = 0\n",
    "        \n",
    "    def next(self):\n",
    "        if  self.counter % 20 == 0:\n",
    "            self.order_target_percent(self.VTSMX, target=self.params.equity)\n",
    "            self.order_target_percent(self.VUSTX, target=self.params.treasury)\n",
    "            self.order_target_percent(self.GLD, target=self.params.gold)\n",
    "            self.order_target_percent(self.SHY, target=self.params.cash)\n",
    "        self.counter += 1"
   ]
  },
  {
   "cell_type": "code",
   "execution_count": 5,
   "metadata": {},
   "outputs": [],
   "source": [
    "cerebro = bt.Cerebro()\n",
    "\n",
    "cerebro.broker.setcash(1000000)\n",
    "\n",
    "VTSMX = bt.feeds.PandasData(dataname = vtsmx)\n",
    "VUSTX = bt.feeds.PandasData(dataname = vustx)\n",
    "GLD = bt.feeds.PandasData(dataname = gld)\n",
    "SHY = bt.feeds.PandasData(dataname = shy)\n",
    "\n",
    "cerebro.adddata(VTSMX)\n",
    "cerebro.adddata(VUSTX)\n",
    "cerebro.adddata(GLD)\n",
    "cerebro.adddata(SHY)\n",
    "\n",
    "cerebro.addstrategy(AssetAllocation_Permanent)\n",
    "\n",
    "cerebro.addanalyzer(bt.analyzers.PyFolio, _name = 'PyFolio')\n",
    "\n",
    "results = cerebro.run()\n",
    "strat = results[0]\n",
    "\n",
    "portfolio_stats = strat.analyzers.getbyname('PyFolio')\n",
    "returns, positions, transactions, gross_lev = portfolio_stats.get_pf_items()\n",
    "returns.index = returns.index.tz_convert(None)\n",
    "\n",
    "quantstats.reports.html(returns, output = 'Report_AssetAllocation_Permanent.html', title='AssetAllocation_Permanent')"
   ]
  }
 ],
 "metadata": {
  "kernelspec": {
   "display_name": "Python 3",
   "language": "python",
   "name": "python3"
  },
  "language_info": {
   "codemirror_mode": {
    "name": "ipython",
    "version": 3
   },
   "file_extension": ".py",
   "mimetype": "text/x-python",
   "name": "python",
   "nbconvert_exporter": "python",
   "pygments_lexer": "ipython3",
   "version": "3.7.6"
  }
 },
 "nbformat": 4,
 "nbformat_minor": 4
}
