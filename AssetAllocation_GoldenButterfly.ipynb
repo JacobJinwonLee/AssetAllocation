{
 "cells": [
  {
   "cell_type": "markdown",
   "metadata": {},
   "source": [
    "영구 포트폴리오는 주식, 국채, 금, 현금을 각각 25%씩 투자하는 전략입니다. 이 비율을 변형하여 전략의 안정성을 크게 떨어뜨리지 않으면서 수익성을 개선하는 전략이 있습니다. 미국 기준으로 주식 20%, 소형 가치주 20%, 장기 국채 20%, 금 20%, 현금(단기 국채) 20% 비율로 투자하는 Goldenbutterfly(황금나비) 전략입니다."
   ]
  },
  {
   "cell_type": "code",
   "execution_count": 1,
   "metadata": {},
   "outputs": [
    {
     "name": "stderr",
     "output_type": "stream",
     "text": [
      "C:\\ProgramData\\Anaconda3\\lib\\site-packages\\pyfolio\\pos.py:27: UserWarning: Module \"zipline.assets\" not found; mutltipliers will not be applied to position notionals.\n",
      "  'Module \"zipline.assets\" not found; mutltipliers will not be applied' +\n"
     ]
    }
   ],
   "source": [
    "import pandas as pd\n",
    "import pandas_datareader.data as web\n",
    "import datetime\n",
    "import backtrader as bt\n",
    "import numpy as np\n",
    "%matplotlib inline\n",
    "import matplotlib.pyplot as plt\n",
    "import pyfolio as pf\n",
    "import quantstats\n",
    "plt.rcParams[\"figure.figsize\"] = (10, 6) # (w, h)"
   ]
  },
  {
   "cell_type": "markdown",
   "metadata": {},
   "source": [
    "금 ETF인 GLD가 2004-11-18 데이터부터 있으므로, 그 시점부터 시작합니다."
   ]
  },
  {
   "cell_type": "code",
   "execution_count": 2,
   "metadata": {},
   "outputs": [],
   "source": [
    "# VTSMX (미국 주식), VBR (미국 소형 가치주), VUSTX (미국 국채), GLD (금), SHY (단기 국채)\n",
    "\n",
    "start = '2004-11-18'\n",
    "end = '2021-02-12'\n",
    "\n",
    "vtsmx = web.DataReader('VTSMX', 'yahoo', start, end)['Adj Close'].to_frame(\"Close\")\n",
    "vbr = web.DataReader('VBR', 'yahoo', start, end)['Adj Close'].to_frame(\"Close\")\n",
    "vustx = web.DataReader('VUSTX', 'yahoo', start, end)['Adj Close'].to_frame(\"Close\")\n",
    "gld = web.DataReader('GLD', 'yahoo', start, end)['Adj Close'].to_frame(\"Close\")\n",
    "shy = web.DataReader('SHY', 'yahoo', start, end)['Adj Close'].to_frame(\"Close\")"
   ]
  },
  {
   "cell_type": "markdown",
   "metadata": {},
   "source": [
    "Backtrader 패키지의 input 형태를 맞춥니다."
   ]
  },
  {
   "cell_type": "code",
   "execution_count": 3,
   "metadata": {},
   "outputs": [],
   "source": [
    "for column in ['Open', 'High', \"Low\"]:\n",
    "    vtsmx[column] = vtsmx[\"Close\"]\n",
    "    vbr[column] = vbr['Close']\n",
    "    vustx[column] = vustx[\"Close\"]\n",
    "    gld[column] = gld[\"Close\"]\n",
    "    shy[column] = shy[\"Close\"]"
   ]
  },
  {
   "cell_type": "markdown",
   "metadata": {},
   "source": [
    "주식, 소형 가치주, 장기 국채, 금, 현금(단기 국채) 각각을 20%씩 보유하면서 20 거래일마다 리밸런싱합니다."
   ]
  },
  {
   "cell_type": "code",
   "execution_count": 4,
   "metadata": {},
   "outputs": [],
   "source": [
    "class AssetAllocation_GoldenButterfly(bt.Strategy):\n",
    "    params = (\n",
    "        ('TotalStock',0.2),\n",
    "        ('SmallCapValue', 0.2),\n",
    "        ('Treasury', 0.2),\n",
    "        ('Gold', 0.2),\n",
    "        ('Cash', 0.2)\n",
    "    )\n",
    "    def __init__(self):\n",
    "        self.VTSMX = self.datas[0]\n",
    "        self.VBR = self.datas[1]\n",
    "        self.VUSTX = self.datas[2]\n",
    "        self.GLD = self.datas[3]\n",
    "        self.SHY = self.datas[4]\n",
    "        self.counter = 0\n",
    "        \n",
    "    def next(self):\n",
    "        if  self.counter % 20 == 0:\n",
    "            self.order_target_percent(self.VTSMX, target=self.params.TotalStock)\n",
    "            self.order_target_percent(self.VBR, target=self.params.SmallCapValue)\n",
    "            self.order_target_percent(self.VUSTX, target=self.params.Treasury)\n",
    "            self.order_target_percent(self.GLD, target=self.params.Gold)\n",
    "            self.order_target_percent(self.SHY, target=self.params.Cash)\n",
    "        self.counter += 1"
   ]
  },
  {
   "cell_type": "code",
   "execution_count": 5,
   "metadata": {},
   "outputs": [],
   "source": [
    "cerebro = bt.Cerebro()\n",
    "\n",
    "cerebro.broker.setcash(1000000)\n",
    "\n",
    "VTSMX = bt.feeds.PandasData(dataname = vtsmx)\n",
    "VBR = bt.feeds.PandasData(dataname = vbr)\n",
    "VUSTX = bt.feeds.PandasData(dataname = vustx)\n",
    "GLD = bt.feeds.PandasData(dataname = gld)\n",
    "SHY = bt.feeds.PandasData(dataname = shy)\n",
    "\n",
    "cerebro.adddata(VTSMX)\n",
    "cerebro.adddata(VBR)\n",
    "cerebro.adddata(VUSTX)\n",
    "cerebro.adddata(GLD)\n",
    "cerebro.adddata(SHY)\n",
    "\n",
    "cerebro.addstrategy(AssetAllocation_GoldenButterfly)\n",
    "\n",
    "cerebro.addanalyzer(bt.analyzers.PyFolio, _name = 'PyFolio')\n",
    "\n",
    "results = cerebro.run()\n",
    "strat = results[0]\n",
    "\n",
    "portfolio_stats = strat.analyzers.getbyname('PyFolio')\n",
    "returns, positions, transactions, gross_lev = portfolio_stats.get_pf_items()\n",
    "returns.index = returns.index.tz_convert(None)\n",
    "\n",
    "quantstats.reports.html(returns, output = 'Report_AssetAllocation_GoldenButterfly.html', title='AssetAllocation_GoldenButterfly')"
   ]
  }
 ],
 "metadata": {
  "kernelspec": {
   "display_name": "Python 3",
   "language": "python",
   "name": "python3"
  },
  "language_info": {
   "codemirror_mode": {
    "name": "ipython",
    "version": 3
   },
   "file_extension": ".py",
   "mimetype": "text/x-python",
   "name": "python",
   "nbconvert_exporter": "python",
   "pygments_lexer": "ipython3",
   "version": "3.7.6"
  }
 },
 "nbformat": 4,
 "nbformat_minor": 4
}
